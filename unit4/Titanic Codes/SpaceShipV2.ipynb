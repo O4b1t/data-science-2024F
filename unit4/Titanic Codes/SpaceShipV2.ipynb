{
 "cells": [
  {
   "cell_type": "code",
   "execution_count": 20,
   "metadata": {},
   "outputs": [],
   "source": [
    "import pandas as pd\n",
    "from sklearn.ensemble import RandomForestClassifier\n",
    "from sklearn.model_selection import train_test_split\n",
    "from sklearn.metrics import accuracy_score, mean_absolute_error\n",
    "\n",
    "train_data = pd.read_csv('Data/SpaceTrain.csv')\n",
    "test_data = pd.read_csv('Data/SpaceTest.csv')"
   ]
  },
  {
   "cell_type": "markdown",
   "metadata": {},
   "source": [
    "#### Modify train and test data:\n",
    "- Fill missing values in 'Cabin' with a placeholder\n",
    "- Extract 'Deck' and 'Side' from 'Cabin'\n",
    "- Fill other missing values with appropriate strategies (e.g., mean, mode)\n",
    "- Encode categorical columns\n",
    "- Drop columns not needed for training, this is based on the importance counter shown by V1 of SpaceShip Titanic"
   ]
  },
  {
   "cell_type": "code",
   "execution_count": 21,
   "metadata": {},
   "outputs": [],
   "source": [
    "def modify(data, is_test_data=False):\n",
    "   \n",
    "    if not is_test_data:\n",
    "        data['Transported'] = data['Transported'].astype(int)\n",
    "    data['Cabin'].fillna('Unknown/0/Unknown', inplace=True)\n",
    "    \n",
    "   \n",
    "\n",
    "    data['Deck'] = data['Cabin'].apply(lambda x: x.split('/')[0] if isinstance(x, str) else 'Unknown')\n",
    "\n",
    "    data['Side'] = data['Cabin'].apply(lambda x: x.split('/')[2] if isinstance(x, str) else 'Unknown')\n",
    "    data['Age'].fillna(data['Age'].median(), inplace=True)\n",
    "    data['RoomService'].fillna(0, inplace=True)\n",
    "    data['FoodCourt'].fillna(0, inplace=True)\n",
    "    data['ShoppingMall'].fillna(0, inplace=True)\n",
    "    data['Spa'].fillna(0, inplace=True)\n",
    "    data['VRDeck'].fillna(0, inplace=True)\n",
    "    \n",
    " \n",
    "    data = pd.get_dummies(data, columns=['HomePlanet', 'Deck', 'Side'], drop_first=True)\n",
    "\n",
    "    data.drop(['Cabin', 'Name'], axis=1, inplace=True)\n",
    "    \n",
    "    return data"
   ]
  },
  {
   "cell_type": "markdown",
   "metadata": {},
   "source": [
    "#### process data and dropping the unimportant ones"
   ]
  },
  {
   "cell_type": "code",
   "execution_count": 22,
   "metadata": {},
   "outputs": [
    {
     "name": "stderr",
     "output_type": "stream",
     "text": [
      "/tmp/ipykernel_14533/916068979.py:5: FutureWarning: A value is trying to be set on a copy of a DataFrame or Series through chained assignment using an inplace method.\n",
      "The behavior will change in pandas 3.0. This inplace method will never work because the intermediate object on which we are setting values always behaves as a copy.\n",
      "\n",
      "For example, when doing 'df[col].method(value, inplace=True)', try using 'df.method({col: value}, inplace=True)' or df[col] = df[col].method(value) instead, to perform the operation inplace on the original object.\n",
      "\n",
      "\n",
      "  data['Cabin'].fillna('Unknown/0/Unknown', inplace=True)\n",
      "/tmp/ipykernel_14533/916068979.py:12: FutureWarning: A value is trying to be set on a copy of a DataFrame or Series through chained assignment using an inplace method.\n",
      "The behavior will change in pandas 3.0. This inplace method will never work because the intermediate object on which we are setting values always behaves as a copy.\n",
      "\n",
      "For example, when doing 'df[col].method(value, inplace=True)', try using 'df.method({col: value}, inplace=True)' or df[col] = df[col].method(value) instead, to perform the operation inplace on the original object.\n",
      "\n",
      "\n",
      "  data['Age'].fillna(data['Age'].median(), inplace=True)\n",
      "/tmp/ipykernel_14533/916068979.py:13: FutureWarning: A value is trying to be set on a copy of a DataFrame or Series through chained assignment using an inplace method.\n",
      "The behavior will change in pandas 3.0. This inplace method will never work because the intermediate object on which we are setting values always behaves as a copy.\n",
      "\n",
      "For example, when doing 'df[col].method(value, inplace=True)', try using 'df.method({col: value}, inplace=True)' or df[col] = df[col].method(value) instead, to perform the operation inplace on the original object.\n",
      "\n",
      "\n",
      "  data['RoomService'].fillna(0, inplace=True)\n",
      "/tmp/ipykernel_14533/916068979.py:14: FutureWarning: A value is trying to be set on a copy of a DataFrame or Series through chained assignment using an inplace method.\n",
      "The behavior will change in pandas 3.0. This inplace method will never work because the intermediate object on which we are setting values always behaves as a copy.\n",
      "\n",
      "For example, when doing 'df[col].method(value, inplace=True)', try using 'df.method({col: value}, inplace=True)' or df[col] = df[col].method(value) instead, to perform the operation inplace on the original object.\n",
      "\n",
      "\n",
      "  data['FoodCourt'].fillna(0, inplace=True)\n",
      "/tmp/ipykernel_14533/916068979.py:15: FutureWarning: A value is trying to be set on a copy of a DataFrame or Series through chained assignment using an inplace method.\n",
      "The behavior will change in pandas 3.0. This inplace method will never work because the intermediate object on which we are setting values always behaves as a copy.\n",
      "\n",
      "For example, when doing 'df[col].method(value, inplace=True)', try using 'df.method({col: value}, inplace=True)' or df[col] = df[col].method(value) instead, to perform the operation inplace on the original object.\n",
      "\n",
      "\n",
      "  data['ShoppingMall'].fillna(0, inplace=True)\n",
      "/tmp/ipykernel_14533/916068979.py:16: FutureWarning: A value is trying to be set on a copy of a DataFrame or Series through chained assignment using an inplace method.\n",
      "The behavior will change in pandas 3.0. This inplace method will never work because the intermediate object on which we are setting values always behaves as a copy.\n",
      "\n",
      "For example, when doing 'df[col].method(value, inplace=True)', try using 'df.method({col: value}, inplace=True)' or df[col] = df[col].method(value) instead, to perform the operation inplace on the original object.\n",
      "\n",
      "\n",
      "  data['Spa'].fillna(0, inplace=True)\n",
      "/tmp/ipykernel_14533/916068979.py:17: FutureWarning: A value is trying to be set on a copy of a DataFrame or Series through chained assignment using an inplace method.\n",
      "The behavior will change in pandas 3.0. This inplace method will never work because the intermediate object on which we are setting values always behaves as a copy.\n",
      "\n",
      "For example, when doing 'df[col].method(value, inplace=True)', try using 'df.method({col: value}, inplace=True)' or df[col] = df[col].method(value) instead, to perform the operation inplace on the original object.\n",
      "\n",
      "\n",
      "  data['VRDeck'].fillna(0, inplace=True)\n"
     ]
    }
   ],
   "source": [
    "train_data = train_data.drop(['Destination', 'VIP'], axis=1)\n",
    "test_data = test_data.drop(['Destination', 'VIP'], axis=1)\n",
    "train_data = modify(train_data)\n",
    "X = train_data.drop(['Transported', 'PassengerId'], axis=1)\n",
    "y = train_data['Transported']\n",
    "\n",
    "# Split the data into training and validation sets\n",
    "train_X, val_X, train_y, val_y = train_test_split(X, y, test_size=0.4, random_state=1)"
   ]
  },
  {
   "cell_type": "markdown",
   "metadata": {},
   "source": [
    "#### Using get_mae to find the most suitable leaf nodes to search so the model wouldn't be overcomplicating to too simple"
   ]
  },
  {
   "cell_type": "code",
   "execution_count": 23,
   "metadata": {},
   "outputs": [],
   "source": [
    "def get_mae(max_leaf_nodes, train_X, val_X, train_y, val_y):\n",
    "    model = RandomForestClassifier(max_leaf_nodes=max_leaf_nodes, random_state=1)\n",
    "    model.fit(train_X, train_y)\n",
    "    preds_val = model.predict(val_X)\n",
    "    mae = mean_absolute_error(val_y, preds_val)\n",
    "    return mae"
   ]
  },
  {
   "cell_type": "code",
   "execution_count": 24,
   "metadata": {},
   "outputs": [
    {
     "name": "stdout",
     "output_type": "stream",
     "text": [
      "MAE values for each max_leaf_nodes: {5: np.float64(0.26279470960322027), 25: np.float64(0.21822886716503737), 50: np.float64(0.20787809085681427), 100: np.float64(0.199252443933295), 250: np.float64(0.19838987924094306), 500: np.float64(0.19838987924094306), 700: np.float64(0.20270270270270271)}\n",
      "Best max_leaf_nodes: 250\n"
     ]
    }
   ],
   "source": [
    "candidate_max_leaf_nodes = [5, 25, 50, 100, 250, 500, 700]\n",
    "\n",
    "\n",
    "mae_values = {max_leaf_nodes: get_mae(max_leaf_nodes, train_X, val_X, train_y, val_y)\n",
    "              for max_leaf_nodes in candidate_max_leaf_nodes}\n",
    "best_tree_size = min(mae_values, key=mae_values.get)\n",
    "\n",
    "print(\"MAE values for each max_leaf_nodes:\", mae_values)\n",
    "print(\"Best max_leaf_nodes:\", best_tree_size)"
   ]
  },
  {
   "cell_type": "code",
   "execution_count": 25,
   "metadata": {},
   "outputs": [
    {
     "name": "stderr",
     "output_type": "stream",
     "text": [
      "/tmp/ipykernel_14533/916068979.py:5: FutureWarning: A value is trying to be set on a copy of a DataFrame or Series through chained assignment using an inplace method.\n",
      "The behavior will change in pandas 3.0. This inplace method will never work because the intermediate object on which we are setting values always behaves as a copy.\n",
      "\n",
      "For example, when doing 'df[col].method(value, inplace=True)', try using 'df.method({col: value}, inplace=True)' or df[col] = df[col].method(value) instead, to perform the operation inplace on the original object.\n",
      "\n",
      "\n",
      "  data['Cabin'].fillna('Unknown/0/Unknown', inplace=True)\n",
      "/tmp/ipykernel_14533/916068979.py:12: FutureWarning: A value is trying to be set on a copy of a DataFrame or Series through chained assignment using an inplace method.\n",
      "The behavior will change in pandas 3.0. This inplace method will never work because the intermediate object on which we are setting values always behaves as a copy.\n",
      "\n",
      "For example, when doing 'df[col].method(value, inplace=True)', try using 'df.method({col: value}, inplace=True)' or df[col] = df[col].method(value) instead, to perform the operation inplace on the original object.\n",
      "\n",
      "\n",
      "  data['Age'].fillna(data['Age'].median(), inplace=True)\n",
      "/tmp/ipykernel_14533/916068979.py:13: FutureWarning: A value is trying to be set on a copy of a DataFrame or Series through chained assignment using an inplace method.\n",
      "The behavior will change in pandas 3.0. This inplace method will never work because the intermediate object on which we are setting values always behaves as a copy.\n",
      "\n",
      "For example, when doing 'df[col].method(value, inplace=True)', try using 'df.method({col: value}, inplace=True)' or df[col] = df[col].method(value) instead, to perform the operation inplace on the original object.\n",
      "\n",
      "\n",
      "  data['RoomService'].fillna(0, inplace=True)\n",
      "/tmp/ipykernel_14533/916068979.py:14: FutureWarning: A value is trying to be set on a copy of a DataFrame or Series through chained assignment using an inplace method.\n",
      "The behavior will change in pandas 3.0. This inplace method will never work because the intermediate object on which we are setting values always behaves as a copy.\n",
      "\n",
      "For example, when doing 'df[col].method(value, inplace=True)', try using 'df.method({col: value}, inplace=True)' or df[col] = df[col].method(value) instead, to perform the operation inplace on the original object.\n",
      "\n",
      "\n",
      "  data['FoodCourt'].fillna(0, inplace=True)\n",
      "/tmp/ipykernel_14533/916068979.py:15: FutureWarning: A value is trying to be set on a copy of a DataFrame or Series through chained assignment using an inplace method.\n",
      "The behavior will change in pandas 3.0. This inplace method will never work because the intermediate object on which we are setting values always behaves as a copy.\n",
      "\n",
      "For example, when doing 'df[col].method(value, inplace=True)', try using 'df.method({col: value}, inplace=True)' or df[col] = df[col].method(value) instead, to perform the operation inplace on the original object.\n",
      "\n",
      "\n",
      "  data['ShoppingMall'].fillna(0, inplace=True)\n",
      "/tmp/ipykernel_14533/916068979.py:16: FutureWarning: A value is trying to be set on a copy of a DataFrame or Series through chained assignment using an inplace method.\n",
      "The behavior will change in pandas 3.0. This inplace method will never work because the intermediate object on which we are setting values always behaves as a copy.\n",
      "\n",
      "For example, when doing 'df[col].method(value, inplace=True)', try using 'df.method({col: value}, inplace=True)' or df[col] = df[col].method(value) instead, to perform the operation inplace on the original object.\n",
      "\n",
      "\n",
      "  data['Spa'].fillna(0, inplace=True)\n",
      "/tmp/ipykernel_14533/916068979.py:17: FutureWarning: A value is trying to be set on a copy of a DataFrame or Series through chained assignment using an inplace method.\n",
      "The behavior will change in pandas 3.0. This inplace method will never work because the intermediate object on which we are setting values always behaves as a copy.\n",
      "\n",
      "For example, when doing 'df[col].method(value, inplace=True)', try using 'df.method({col: value}, inplace=True)' or df[col] = df[col].method(value) instead, to perform the operation inplace on the original object.\n",
      "\n",
      "\n",
      "  data['VRDeck'].fillna(0, inplace=True)\n"
     ]
    }
   ],
   "source": [
    "final_model = RandomForestClassifier(max_leaf_nodes=best_tree_size, random_state=1)\n",
    "final_model.fit(X, y)\n",
    "\n",
    "# Preprocess the test data\n",
    "test_data_preprocessed = modify(test_data, is_test_data=True)\n",
    "X_test = test_data_preprocessed.drop(['PassengerId'], axis=1)  # Only drop PassengerId\n",
    "\n",
    "# Make predictions on the test data\n",
    "test_predictions = final_model.predict(X_test)"
   ]
  },
  {
   "cell_type": "code",
   "execution_count": 26,
   "metadata": {},
   "outputs": [],
   "source": [
    "output = pd.DataFrame({'PassengerId': test_data['PassengerId'],\n",
    "                       'Transported': test_predictions.astype(bool)})\n",
    "output"
   ]
  },
  {
   "cell_type": "code",
   "execution_count": 27,
   "metadata": {},
   "outputs": [],
   "source": [
    "import time\n",
    "timestr = time.strftime(\"%Y%m%d-%H%M%S\")\n",
    "\n",
    "output.to_csv(f'Submission/SpaceShipsubmission{timestr}.csv', index=False)"
   ]
  }
 ],
 "metadata": {
  "kernelspec": {
   "display_name": "Python 3",
   "language": "python",
   "name": "python3"
  },
  "language_info": {
   "codemirror_mode": {
    "name": "ipython",
    "version": 3
   },
   "file_extension": ".py",
   "mimetype": "text/x-python",
   "name": "python",
   "nbconvert_exporter": "python",
   "pygments_lexer": "ipython3",
   "version": "3.12.1"
  }
 },
 "nbformat": 4,
 "nbformat_minor": 2
}
