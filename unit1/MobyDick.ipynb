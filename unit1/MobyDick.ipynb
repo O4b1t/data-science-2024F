{
 "cells": [
  {
   "cell_type": "code",
   "execution_count": 1,
   "metadata": {},
   "outputs": [
    {
     "name": "stdout",
     "output_type": "stream",
     "text": [
      "call him? Say he swam over the most mountainous! That blubber in size of his uniform interval (in one of\n"
     ]
    }
   ],
   "source": [
    "import random\n",
    "\n",
    "def findNext(word):\n",
    "    if word in DicWords and DicWords[word]:\n",
    "        return random.choice(DicWords[word])\n",
    "    else:\n",
    "        return None\n",
    "mobyWords = []\n",
    "DicWords = {}\n",
    "with open('moby.txt','r') as file:\n",
    " \n",
    "    # reading each line    \n",
    "    for line in file:\n",
    " \n",
    "        # reading each word        \n",
    "        for word in line.split():\n",
    " \n",
    "            # displaying the words           \n",
    "            mobyWords.append(word) \n",
    "for i in range(len(mobyWords)-1):\n",
    "    currentWord = mobyWords[i]\n",
    "    nextWord = mobyWords[i+1]\n",
    "    if currentWord not in DicWords:\n",
    "        DicWords[currentWord] = []\n",
    "    DicWords[currentWord].append(nextWord)\n",
    "word = input(\"Enter a word: \")\n",
    "num = int(input(\"Enter the length of the text you want to generate: \"))\n",
    "\n",
    "sentence = [word]\n",
    "for i in range(num - 1):\n",
    "    nextWord = findNext(word)\n",
    "    if not nextWord:\n",
    "        break\n",
    "    sentence.append(nextWord)\n",
    "    word = nextWord\n",
    "\n",
    "print(\" \".join(sentence))"
   ]
  },
  {
   "cell_type": "code",
   "execution_count": null,
   "metadata": {},
   "outputs": [],
   "source": []
  }
 ],
 "metadata": {
  "kernelspec": {
   "display_name": "Python 3",
   "language": "python",
   "name": "python3"
  },
  "language_info": {
   "codemirror_mode": {
    "name": "ipython",
    "version": 3
   },
   "file_extension": ".py",
   "mimetype": "text/x-python",
   "name": "python",
   "nbconvert_exporter": "python",
   "pygments_lexer": "ipython3",
   "version": "3.12.1"
  }
 },
 "nbformat": 4,
 "nbformat_minor": 2
}
