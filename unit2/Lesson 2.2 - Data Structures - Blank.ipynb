{
 "cells": [
  {
   "cell_type": "markdown",
   "id": "a3a28689",
   "metadata": {},
   "source": [
    "# Data Science Lesson - Data Structures\n",
    "---\n",
    "**Question: How do we represent our Stick Figure Google Sheet (table) in a Python variable?**\n",
    "\n",
    "### List of Dictionaries\n",
    "\n",
    "Represent each person as a dictionary, and stote them all in a list. Output the list to verify."
   ]
  },
  {
   "cell_type": "code",
   "execution_count": 1,
   "id": "46d98ee3",
   "metadata": {},
   "outputs": [
    {
     "name": "stdout",
     "output_type": "stream",
     "text": [
      "[{'name': 'dakota', 'gpa': 3.15, 'friends': 307, 'height': 72, 'sport': 'basketball', 'footwear': 'sneakers'}, {'name': 'hayden', 'gpa': 3.1, 'friends': 335, 'height': 68, 'sport': 'tennis', 'footwear': 'flip-flops'}, {'name': 'charlie', 'gpa': 1.1, 'friends': 34, 'height': 61, 'sport': 'baseball', 'footwear': 'flip-flops'}, {'name': 'kamryn', 'gpa': 2.18, 'friends': 200, 'height': 66, 'sport': 'soccer', 'footwear': 'sneakers'}, {'name': 'emerson', 'gpa': 3.06, 'friends': 213, 'height': 65, 'sport': 'soccer', 'footwear': 'sneakers'}, {'name': 'jessie', 'gpa': 2.41, 'friends': 202, 'height': 61, 'sport': 'basketball', 'footwear': 'slip-slops'}, {'name': 'sawyer', 'gpa': 2.96, 'friends': 314, 'height': 67, 'sport': 'tennis', 'footwear': 'flip-flops'}, {'name': 'london', 'gpa': 3.98, 'friends': 436, 'height': 64, 'sport': 'soccer', 'footwear': 'sneakers'}]\n"
     ]
    }
   ],
   "source": [
    "StickFigureData = [{\"name\": \"dakota\", \"gpa\": 3.15, \"friends\": 307, \"height\": 72, \"sport\": \"basketball\", \"footwear\": \"sneakers\"},\n",
    "                   {\"name\": \"hayden\", \"gpa\": 3.1, \"friends\": 335, \"height\": 68, \"sport\": \"tennis\", \"footwear\": \"flip-flops\"},\n",
    "                   {\"name\": \"charlie\", \"gpa\": 1.1, \"friends\": 34, \"height\": 61, \"sport\": \"baseball\", \"footwear\": \"flip-flops\"},\n",
    "                   {\"name\": \"kamryn\", \"gpa\": 2.18, \"friends\": 200, \"height\": 66, \"sport\": \"soccer\", \"footwear\": \"sneakers\"},\n",
    "                   {\"name\": \"emerson\", \"gpa\": 3.06, \"friends\": 213, \"height\": 65, \"sport\": \"soccer\", \"footwear\": \"sneakers\"},\n",
    "                   {\"name\": \"jessie\", \"gpa\": 2.41, \"friends\": 202, \"height\": 61, \"sport\": \"basketball\", \"footwear\": \"slip-slops\"},\n",
    "                   {\"name\": \"sawyer\", \"gpa\": 2.96, \"friends\": 314, \"height\": 67, \"sport\": \"tennis\", \"footwear\": \"flip-flops\"},\n",
    "                   {\"name\": \"london\", \"gpa\": 3.98, \"friends\": 436, \"height\": 64, \"sport\": \"soccer\", \"footwear\": \"sneakers\"}]\n",
    "\n",
    "print(StickFigureData)"
   ]
  },
  {
   "cell_type": "markdown",
   "id": "9dee2d16",
   "metadata": {},
   "source": [
    "What is the mean height of people in our list? First, use pure Python functions (not the statistics module) to calculate this, and output to verify.\n",
    "\n",
    "*Hint: You may want to put all the heights in a list and then use that for your computations.*"
   ]
  },
  {
   "cell_type": "code",
   "execution_count": 2,
   "id": "3525da44",
   "metadata": {},
   "outputs": [
    {
     "name": "stdout",
     "output_type": "stream",
     "text": [
      "65.5\n"
     ]
    }
   ],
   "source": [
    "sum = 0\n",
    "for data in StickFigureData:\n",
    "    sum += data[\"height\"]\n",
    "\n",
    "print(sum/len(StickFigureData))\n"
   ]
  },
  {
   "cell_type": "markdown",
   "id": "bcf0f231",
   "metadata": {},
   "source": [
    "Now, import NumPy (as np) and use its mean function to find the mean of the heights list directly."
   ]
  },
  {
   "cell_type": "code",
   "execution_count": 6,
   "id": "dac4edc5",
   "metadata": {},
   "outputs": [
    {
     "name": "stdout",
     "output_type": "stream",
     "text": [
      "65.5\n"
     ]
    }
   ],
   "source": [
    "import numpy as np\n",
    "\n",
    "heights = [person[\"height\"] for person in StickFigureData]\n",
    "print(np.mean(heights))"
   ]
  },
  {
   "cell_type": "markdown",
   "id": "25f72f93",
   "metadata": {},
   "source": [
    "## Dictionary of Lists\n",
    "\n",
    "Using a dictionary and key/value pairs, represent each attribute (column) of a person as a key and all the values of each attribute as a list. That is, a dictionary of lists. Output the dict to verify."
   ]
  },
  {
   "cell_type": "code",
   "execution_count": 7,
   "id": "d5dca641",
   "metadata": {},
   "outputs": [
    {
     "name": "stdout",
     "output_type": "stream",
     "text": [
      "{'name': ['dakota', 'hayden', 'charlie', 'kamryn', 'emerson', 'jessie', 'sawyer', 'london'], 'gpa': [3.15, 3.1, 1.1, 2.18, 3.06, 2.41, 2.96, 3.98], 'friends': [307, 335, 34, 200, 213, 202, 314, 436], 'height': [72, 68, 61, 66, 65, 61, 67, 64], 'sport': ['basketball', 'tennis', 'baseball', 'soccer', 'soccer', 'basketball', 'tennis', 'soccer'], 'footwear': ['sneakers', 'flip-flops', 'flip-flops', 'sneakers', 'sneakers', 'slip-slops', 'flip-flops', 'sneakers']}\n"
     ]
    }
   ],
   "source": [
    "transform = {key: [person[key] for person in StickFigureData] for key in StickFigureData[0].keys()}\n",
    "print(transform)"
   ]
  },
  {
   "cell_type": "markdown",
   "id": "846bdc27",
   "metadata": {},
   "source": [
    "Now use NumPy to get the mean in one statement."
   ]
  },
  {
   "cell_type": "code",
   "execution_count": 8,
   "id": "898bb3cd",
   "metadata": {},
   "outputs": [
    {
     "data": {
      "text/plain": [
       "np.float64(65.5)"
      ]
     },
     "execution_count": 8,
     "metadata": {},
     "output_type": "execute_result"
    }
   ],
   "source": [
    "mean_height = np.mean([person['height'] for person in StickFigureData])\n",
    "mean_height"
   ]
  },
  {
   "cell_type": "markdown",
   "id": "5f0ed550",
   "metadata": {},
   "source": [
    "**So, which approach should we use? Or is there a better way? Hmmm...**"
   ]
  }
 ],
 "metadata": {
  "kernelspec": {
   "display_name": "Python 3 (ipykernel)",
   "language": "python",
   "name": "python3"
  },
  "language_info": {
   "codemirror_mode": {
    "name": "ipython",
    "version": 3
   },
   "file_extension": ".py",
   "mimetype": "text/x-python",
   "name": "python",
   "nbconvert_exporter": "python",
   "pygments_lexer": "ipython3",
   "version": "3.12.1"
  }
 },
 "nbformat": 4,
 "nbformat_minor": 5
}
